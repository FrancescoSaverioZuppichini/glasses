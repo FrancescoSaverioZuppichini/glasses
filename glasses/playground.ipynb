{
 "cells": [
  {
   "cell_type": "code",
   "execution_count": 12,
   "metadata": {},
   "outputs": [],
   "source": [
    "import torch\n",
    "import requests\n",
    "import os\n",
    "from pathlib import Path\n",
    "URL = 'https://download.pytorch.org/models/resnet18-5c106cde.pth'"
   ]
  },
  {
   "cell_type": "code",
   "execution_count": 11,
   "metadata": {},
   "outputs": [],
   "source": [
    "r = requests.get(URL)\n",
    "\n",
    "\n",
    "with open('../resnet18-5c106cde.pth', 'wb') as f:\n",
    "    f.write(r.content)"
   ]
  },
  {
   "cell_type": "code",
   "execution_count": 29,
   "metadata": {},
   "outputs": [
    {
     "name": "stdout",
     "output_type": "stream",
     "text": [
      "Getting weights at url=https://download.pytorch.org/models/resnet18-5c106cde.pth\n",
      "Getting weights at url=https://download.pytorch.org/models/resnet34-333f7ec4.pth\n",
      "Getting weights at url=https://download.pytorch.org/models/resnet50-19c8e357.pth\n",
      "Getting weights at url=https://download.pytorch.org/models/resnet101-5d3b4d8f.pth\n",
      "Getting weights at url=https://download.pytorch.org/models/resnet152-b121ed2d.pth\n"
     ]
    }
   ],
   "source": [
    "import io\n",
    "from utils.ModuleTransfer import ModuleTransfer\n",
    "from torchvision.models import resnet18, resnet34, resnet50, resnet101, resnet152\n",
    "from nn.models.classification.resnet import ResNet\n",
    "\n",
    "\n",
    "zoo = {\n",
    "    resnet18: 'https://download.pytorch.org/models/resnet18-5c106cde.pth',\n",
    "    resnet34: 'https://download.pytorch.org/models/resnet34-333f7ec4.pth',\n",
    "    resnet50: 'https://download.pytorch.org/models/resnet50-19c8e357.pth',\n",
    "    resnet101: 'https://download.pytorch.org/models/resnet101-5d3b4d8f.pth',\n",
    "    resnet152: 'https://download.pytorch.org/models/resnet152-b121ed2d.pth',\n",
    "}\n",
    "\n",
    "zoo_models_mapping = {\n",
    "    \n",
    "    resnet18: ResNet.resnet18,\n",
    "    resnet34: ResNet.resnet34,\n",
    "    resnet50: ResNet.resnet50,\n",
    "    resnet101: ResNet.resnet101,\n",
    "    resnet152: ResNet.resnet152,\n",
    "}\n",
    "\n",
    "for src_def, dst_def in zoo_models_mapping.items():\n",
    "    url = zoo[src_def]\n",
    "    print(f\"Getting weights at url={url}\")\n",
    "    \n",
    "    r = requests.get(url)\n",
    "    \n",
    "    with open('../temp.pth', 'wb') as f:\n",
    "        f.write(r.content)\n",
    "\n",
    "    src = src_def(False)\n",
    "    src.load_state_dict(torch.load('../temp.pth'))\n",
    "    dst = dst_def()\n",
    "\n",
    "    x = torch.rand((1, 3, 224, 224))\n",
    "\n",
    "    src.eval()\n",
    "    dst.eval()\n",
    "    \n",
    "    a = src(x)\n",
    "    b = dst(x)\n",
    "\n",
    "    assert not torch.equal(a, b)\n",
    "    \n",
    "    \n",
    "    ModuleTransfer(src, dst)(x)\n",
    "\n",
    "    a = src(x)\n",
    "    b = dst(x)\n",
    "\n",
    "    assert torch.equal(a, b)"
   ]
  },
  {
   "cell_type": "code",
   "execution_count": null,
   "metadata": {},
   "outputs": [],
   "source": [
    "!ls"
   ]
  }
 ],
 "metadata": {
  "kernelspec": {
   "display_name": "Python 3",
   "language": "python",
   "name": "python3"
  },
  "language_info": {
   "codemirror_mode": {
    "name": "ipython",
    "version": 3
   },
   "file_extension": ".py",
   "mimetype": "text/x-python",
   "name": "python",
   "nbconvert_exporter": "python",
   "pygments_lexer": "ipython3",
   "version": "3.8.2"
  }
 },
 "nbformat": 4,
 "nbformat_minor": 4
}
