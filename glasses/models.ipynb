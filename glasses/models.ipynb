{
 "cells": [
  {
   "cell_type": "markdown",
   "metadata": {},
   "source": [
    "## Resnet"
   ]
  },
  {
   "cell_type": "code",
   "execution_count": null,
   "metadata": {},
   "outputs": [],
   "source": [
    "import torch\n",
    "from nn.resnet import ResNet\n",
    "from torch import nn\n",
    "from nn.senet import SENetBasicBlock"
   ]
  },
  {
   "cell_type": "markdown",
   "metadata": {},
   "source": [
    "### Create a default model\n",
    "\n",
    "Different ResNet with different sizes can be created using the classmethod inside `ResNet`"
   ]
  },
  {
   "cell_type": "code",
   "execution_count": null,
   "metadata": {},
   "outputs": [],
   "source": [
    "ResNet.resnet18()\n",
    "ResNet.resnet34()\n",
    "ResNet.resnet50()\n",
    "ResNet.resnet101()\n",
    "ResNet.resnet152()"
   ]
  },
  {
   "cell_type": "markdown",
   "metadata": {},
   "source": [
    "### Customization\n",
    "\n",
    "You can easily customize your resnet"
   ]
  },
  {
   "cell_type": "code",
   "execution_count": null,
   "metadata": {},
   "outputs": [],
   "source": [
    "# change activation\n",
    "ResNet.resnet18(activation = nn.SELU)\n",
    "# change number of classes (default is 1000 )\n",
    "ResNet.resnet18(n_classes=100)\n",
    "# pass a different block\n",
    "ResNet.resnet18(block=SENetBasicBlock)\n",
    "# change the initial convolution\n",
    "model = ResNet.resnet18()\n",
    "model.encoder.gate.conv1 = nn.Conv2d(3, 64, kernel_size=3)\n",
    "# store each feature\n",
    "x = torch.rand((1, 3, 224, 224))\n",
    "model = ResNet.resnet18()\n",
    "features = []\n",
    "x = model.encoder.gate(x)\n",
    "for block in model.encoder.blocks:\n",
    "    x = block(x)\n",
    "    features.append(x)\n",
    "    \n",
    "print([x.shape for x in features])\n",
    "# [torch.Size([1, 64, 56, 56]), torch.Size([1, 128, 28, 28]), torch.Size([1, 256, 14, 14]), torch.Size([1, 512, 7, 7])]"
   ]
  }
 ],
 "metadata": {
  "kernelspec": {
   "display_name": "Python 3",
   "language": "python",
   "name": "python3"
  },
  "language_info": {
   "codemirror_mode": {
    "name": "ipython",
    "version": 3
   },
   "file_extension": ".py",
   "mimetype": "text/x-python",
   "name": "python",
   "nbconvert_exporter": "python",
   "pygments_lexer": "ipython3",
   "version": "3.8.2"
  }
 },
 "nbformat": 4,
 "nbformat_minor": 4
}
