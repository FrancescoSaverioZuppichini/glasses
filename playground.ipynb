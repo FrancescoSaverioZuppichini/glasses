{
 "cells": [
  {
   "cell_type": "code",
   "execution_count": 39,
   "metadata": {},
   "outputs": [
    {
     "name": "stdout",
     "output_type": "stream",
     "text": [
      "The autoreload extension is already loaded. To reload it, use:\n",
      "  %reload_ext autoreload\n"
     ]
    }
   ],
   "source": [
    "%load_ext autoreload\n",
    "\n",
    "%autoreload 2"
   ]
  },
  {
   "cell_type": "code",
   "execution_count": 43,
   "metadata": {},
   "outputs": [],
   "source": [
    "import torch\n",
    "from glasses.nn.models.classification.inception import *"
   ]
  },
  {
   "cell_type": "code",
   "execution_count": 44,
   "metadata": {},
   "outputs": [],
   "source": [
    "x = torch.rand(1, 32, 48, 48)"
   ]
  },
  {
   "cell_type": "code",
   "execution_count": 45,
   "metadata": {},
   "outputs": [
    {
     "data": {
      "text/plain": [
       "InceptionABlock(\n",
       "  (block): InputForward(\n",
       "    (blocks): ModuleList(\n",
       "      (0): Sequential(\n",
       "        (conv1): Conv2dPad(32, 64, kernel_size=(1, 1), stride=(1, 1))\n",
       "        (conv2): Conv2dPad(64, 96, kernel_size=(3, 3), stride=(1, 1), padding=(1, 1))\n",
       "        (conv3): Conv2dPad(96, 96, kernel_size=(3, 3), stride=(1, 1), padding=(1, 1))\n",
       "      )\n",
       "      (1): Sequential(\n",
       "        (conv1): Conv2dPad(32, 64, kernel_size=(1, 1), stride=(1, 1))\n",
       "        (conv2): Conv2dPad(64, 96, kernel_size=(3, 3), stride=(1, 1), padding=(1, 1))\n",
       "      )\n",
       "      (2): Sequential(\n",
       "        (pool): AvgPool2d(kernel_size=3, stride=1, padding=1)\n",
       "        (conv): Conv2dPad(32, 96, kernel_size=(1, 1), stride=(1, 1))\n",
       "      )\n",
       "      (3): Sequential(\n",
       "        (conv): Conv2dPad(32, 96, kernel_size=(1, 1), stride=(1, 1))\n",
       "      )\n",
       "    )\n",
       "  )\n",
       ")"
      ]
     },
     "execution_count": 45,
     "metadata": {},
     "output_type": "execute_result"
    }
   ],
   "source": [
    "InceptionABlock(32)"
   ]
  },
  {
   "cell_type": "code",
   "execution_count": 48,
   "metadata": {},
   "outputs": [
    {
     "data": {
      "text/plain": [
       "InceptionBBlock(\n",
       "  (block): InputForward(\n",
       "    (blocks): ModuleList(\n",
       "      (0): Sequential(\n",
       "        (conv1): Conv2dPad(32, 192, kernel_size=(1, 1), stride=(1, 1))\n",
       "        (conv2): Conv2dPad(192, 192, kernel_size=(1, 7), stride=(1, 1), padding=(0, 3))\n",
       "        (conv3): Conv2dPad(192, 224, kernel_size=(7, 1), stride=(1, 1), padding=(3, 0))\n",
       "        (conv4): Conv2dPad(224, 224, kernel_size=(1, 7), stride=(1, 1), padding=(0, 3))\n",
       "        (conv5): Conv2dPad(224, 256, kernel_size=(7, 1), stride=(1, 1), padding=(3, 0))\n",
       "      )\n",
       "      (1): Sequential(\n",
       "        (conv1): Conv2dPad(32, 64, kernel_size=(1, 1), stride=(1, 1))\n",
       "        (conv2): Conv2dPad(64, 96, kernel_size=(3, 3), stride=(1, 1), padding=(1, 1))\n",
       "      )\n",
       "      (2): Sequential(\n",
       "        (pool): AvgPool2d(kernel_size=3, stride=1, padding=1)\n",
       "        (conv): Conv2dPad(32, 96, kernel_size=(1, 1), stride=(1, 1))\n",
       "      )\n",
       "      (3): Sequential(\n",
       "        (conv): Conv2dPad(32, 96, kernel_size=(1, 1), stride=(1, 1))\n",
       "      )\n",
       "    )\n",
       "  )\n",
       ")"
      ]
     },
     "execution_count": 48,
     "metadata": {},
     "output_type": "execute_result"
    }
   ],
   "source": [
    "InceptionBBlock(32)"
   ]
  },
  {
   "cell_type": "code",
   "execution_count": 50,
   "metadata": {},
   "outputs": [
    {
     "data": {
      "text/plain": [
       "InceptionCBlock(\n",
       "  (block): InputForward(\n",
       "    (blocks): ModuleList(\n",
       "      (0): Sequential(\n",
       "        (poll): AvgPool2d(kernel_size=3, stride=1, padding=1)\n",
       "        (conv1): Conv2dPad(32, 256, kernel_size=(1, 1), stride=(1, 1))\n",
       "      )\n",
       "      (1): Sequential(\n",
       "        (conv1): Conv2dPad(32, 256, kernel_size=(1, 1), stride=(1, 1))\n",
       "      )\n",
       "    )\n",
       "  )\n",
       ")"
      ]
     },
     "execution_count": 50,
     "metadata": {},
     "output_type": "execute_result"
    }
   ],
   "source": [
    "InceptionCBlock(32)"
   ]
  },
  {
   "cell_type": "code",
   "execution_count": null,
   "metadata": {},
   "outputs": [],
   "source": []
  }
 ],
 "metadata": {
  "kernelspec": {
   "display_name": "Python 3",
   "language": "python",
   "name": "python3"
  },
  "language_info": {
   "codemirror_mode": {
    "name": "ipython",
    "version": 3
   },
   "file_extension": ".py",
   "mimetype": "text/x-python",
   "name": "python",
   "nbconvert_exporter": "python",
   "pygments_lexer": "ipython3",
   "version": "3.8.2"
  }
 },
 "nbformat": 4,
 "nbformat_minor": 4
}
